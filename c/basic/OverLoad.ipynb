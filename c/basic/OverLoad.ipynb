{
 "cells": [
  {
   "cell_type": "code",
   "execution_count": null,
   "metadata": {},
   "outputs": [],
   "source": [
    "// c语言不支持重载"
   ]
  },
  {
   "cell_type": "code",
   "execution_count": 1,
   "metadata": {},
   "outputs": [
    {
     "name": "stdout",
     "output_type": "stream",
     "text": [
      "1"
     ]
    }
   ],
   "source": [
    "#include <stdio.h>\n",
    "void _function(int a){\n",
    "    printf(\"%d\",a);\n",
    "}\n",
    "// c语言不支持重载，仅凭函数名来关联调用，所以会报错，但是c++却可以重载，因为函数的标识符会关联参数\n",
    "// void _function(double d){\n",
    "//     printf(\"%f\",d)\n",
    "// }\n",
    "int main(){\n",
    "    _function(1);\n",
    "}\n"
   ]
  },
  {
   "cell_type": "code",
   "execution_count": 2,
   "metadata": {},
   "outputs": [
    {
     "name": "stdout",
     "output_type": "stream",
     "text": [
      "23\n",
      "23.23\n"
     ]
    }
   ],
   "source": [
    "/**\n",
    "c语言要想达到函数重载的目的，需要这样操作。\n",
    "使用函数接受函数指针。\n",
    "其中c_func 就达到了类似处理不同参数的目的\n",
    "*/\n",
    "#include<stdio.h>\n",
    " \n",
    "void func_int(void * a)\n",
    "{\n",
    "    printf(\"%d\\n\",*(int*)a);  //输出int类型，注意 void * 转化为int\n",
    "}\n",
    " \n",
    "void func_double(void * b)\n",
    "{\n",
    "    printf(\"%.2f\\n\",*(double*)b);\n",
    "}\n",
    " \n",
    "typedef void (*ptr)(void *);  //typedef申明一个函数指针\n",
    " \n",
    "void c_func(ptr p,void *param)\n",
    "{\n",
    "     p(param);                //调用对应函数\n",
    "}\n",
    " \n",
    "int main()\n",
    "{\n",
    "    int a = 23;\n",
    "    double b = 23.23;\n",
    "    c_func(func_int,&a);\n",
    "    c_func(func_double,&b);\n",
    "    return 0;\n",
    "}"
   ]
  },
  {
   "cell_type": "code",
   "execution_count": null,
   "metadata": {},
   "outputs": [],
   "source": []
  },
  {
   "cell_type": "code",
   "execution_count": null,
   "metadata": {},
   "outputs": [],
   "source": []
  }
 ],
 "metadata": {
  "kernelspec": {
   "display_name": "C",
   "language": "c",
   "name": "c"
  },
  "language_info": {
   "file_extension": ".c",
   "mimetype": "text/plain",
   "name": "c"
  }
 },
 "nbformat": 4,
 "nbformat_minor": 2
}
