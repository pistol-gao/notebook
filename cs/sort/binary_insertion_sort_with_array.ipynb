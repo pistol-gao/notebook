{
 "cells": [
  {
   "cell_type": "code",
   "execution_count": 0,
   "metadata": {},
   "outputs": [],
   "source": [
    "\n",
    "// Java Program implementing \n",
    "// binary insertion sort \n",
    "  \n",
    "import java.util.Arrays; \n",
    "class GFG \n",
    "{ \n",
    "    public void sort(int array[]) \n",
    "    { \n",
    "        for (int i = 1; i < array.length; i++) \n",
    "        { \n",
    "            int x = array[i]; \n",
    "  \n",
    "            // Find location to insert using binary search \n",
    "            int j = Math.abs(Arrays.binarySearch(array, 0, i, x) + 1); \n",
    "  \n",
    "            //Shifting array to one location right \n",
    "            System.arraycopy(array, j, array, j+1, i-j); \n",
    "  \n",
    "            //Placing element at its correct location \n",
    "            array[j] = x; \n",
    "        } \n",
    "    } \n",
    "} \n",
    "  "
   ]
  },
  {
   "cell_type": "code",
   "execution_count": 0,
   "metadata": {},
   "outputs": [],
   "source": [
    "final int[] arr = {37, 23, 0, 17, 12, 72, 31, \n",
    "                             46, 100, 88, 54 }; \n",
    "  \n",
    "new GFG().sort(arr); \n",
    "\n",
    "for(int i=0; i<arr.length; i++) \n",
    "    System.out.print(arr[i]+\" \"); "
   ]
  }
 ],
 "metadata": {
  "kernelspec": {
   "display_name": "Java",
   "language": "java",
   "name": "java"
  },
  "language_info": {
   "codemirror_mode": "java",
   "file_extension": ".java",
   "mimetype": "text/x-java-source",
   "name": "Java",
   "pygments_lexer": "java",
   "version": "10.0.2+13-Ubuntu-1ubuntu0.18.04.2"
  }
 },
 "nbformat": 4,
 "nbformat_minor": 2
}