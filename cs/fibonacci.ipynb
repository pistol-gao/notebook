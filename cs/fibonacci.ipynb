{
 "cells": [
  {
   "cell_type": "code",
   "execution_count": 1,
   "metadata": {},
   "outputs": [
    {
     "data": {
      "text/plain": [
       "55"
      ]
     },
     "execution_count": 1,
     "metadata": {},
     "output_type": "execute_result"
    }
   ],
   "source": [
    "'''\n",
    "worst way to implements fibonacci\n",
    "时间复杂度O(n²)，空间复杂度S(n)栈递归\n",
    "'''\n",
    "def fibonacci(n):\n",
    "    if n<=1:\n",
    "        return n\n",
    "    return fibonacci(n-1) + fibonacci(n-2)\n",
    "fibonacci(10)"
   ]
  },
  {
   "cell_type": "code",
   "execution_count": 2,
   "metadata": {},
   "outputs": [
    {
     "name": "stdout",
     "output_type": "stream",
     "text": [
      "55\n"
     ]
    }
   ],
   "source": [
    "'''\n",
    "way 2 to implements fibonacci\n",
    "'''\n",
    "def fibonacci2(n):\n",
    "    a,b = 1,1\n",
    "    for i in range(n-1):\n",
    "        a,b = b,a+b\n",
    "    return a\n",
    "\n",
    "print(fibonacci2(10))\n",
    "    "
   ]
  },
  {
   "cell_type": "code",
   "execution_count": 3,
   "metadata": {},
   "outputs": [
    {
     "name": "stdout",
     "output_type": "stream",
     "text": [
      "55\n"
     ]
    }
   ],
   "source": [
    "'''\n",
    "Using memoization\n",
    "'''\n",
    "def memoize(fn,arg):\n",
    "    mem = {}\n",
    "    if arg not in mem:\n",
    "        mem[arg] = fn(arg)\n",
    "    return mem[arg]\n",
    "print(memoize(fibonacci2,10))"
   ]
  },
  {
   "cell_type": "code",
   "execution_count": 4,
   "metadata": {},
   "outputs": [
    {
     "name": "stdout",
     "output_type": "stream",
     "text": [
      "55\n"
     ]
    }
   ],
   "source": [
    "'''\n",
    "Using memoization as decorator\n",
    "'''\n",
    "class Memoize:\n",
    "    def __init__(self,fn):\n",
    "        self.fn = fn\n",
    "        self.memo = {}\n",
    "    def __call__(self, arg):\n",
    "        if arg not in self.memo:\n",
    "            self.memo[arg] = self.fn(arg)\n",
    "        return self.memo[arg]\n",
    "\n",
    "@Memoize\n",
    "def fib(n):\n",
    "    a,b = 1,1\n",
    "    for i in range(n-1):\n",
    "        a,b = b,a+b\n",
    "    return a\n",
    "print(fib(10))"
   ]
  }
 ],
 "metadata": {
  "kernelspec": {
   "display_name": "Python 3",
   "language": "python",
   "name": "python3"
  },
  "language_info": {
   "codemirror_mode": {
    "name": "ipython",
    "version": 3
   },
   "file_extension": ".py",
   "mimetype": "text/x-python",
   "name": "python",
   "nbconvert_exporter": "python",
   "pygments_lexer": "ipython3",
   "version": "3.6.6"
  }
 },
 "nbformat": 4,
 "nbformat_minor": 2
}
