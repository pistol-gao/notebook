{
 "cells": [
  {
   "cell_type": "code",
   "execution_count": 0,
   "metadata": {},
   "outputs": [],
   "source": [
    "#include <iostream>\n",
    "using namespace std;\n",
    "void Hanoi(int n ,char src,char mid,char dest)\n",
    "{\n",
    "    if(n==1){\n",
    "        cout<< src << \"->\" << dest << endl;\n",
    "    }\n",
    "    Hanoi(n-1,src,dest,mid);\n",
    "    cout << src << \"->\" << dest << endl;\n",
    "    Hanoi(n-1,mid,src,dest);\n",
    "}"
   ]
  },
  {
   "cell_type": "code",
   "execution_count": 0,
   "metadata": {},
   "outputs": [],
   "source": [
    "Hanoi(3,'A','B','C');"
   ]
  },
  {
   "cell_type": "code",
   "execution_count": 0,
   "metadata": {},
   "outputs": [],
   "source": []
  }
 ],
 "metadata": {
  "kernelspec": {
   "display_name": "C++11",
   "language": "C++",
   "name": "cling-cpp11"
  },
  "language_info": {
   "codemirror_mode": "c++",
   "file_extension": ".c++",
   "mimetype": "text/x-c++src",
   "name": "c++"
  }
 },
 "nbformat": 4,
 "nbformat_minor": 2
}