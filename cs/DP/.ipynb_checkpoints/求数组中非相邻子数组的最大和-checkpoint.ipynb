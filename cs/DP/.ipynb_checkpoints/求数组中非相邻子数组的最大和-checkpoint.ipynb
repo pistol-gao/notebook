{
 "cells": [
  {
   "cell_type": "markdown",
   "metadata": {},
   "source": [
    "求数组中非相邻的子数组的最大和(子数组中元素不存在相邻节点)，例如给定数组{4,1,2,9,3}\n",
    "最大非相邻的子数组{4,9}  13\n",
    "\n",
    "\n",
    "解题思路：  \n",
    "OPT(i) = max(OPT(i - 2) + arr[i], OPT(i - 1))"
   ]
  },
  {
   "cell_type": "code",
   "execution_count": 1,
   "metadata": {},
   "outputs": [
    {
     "data": {
      "text/plain": [
       "13"
      ]
     },
     "execution_count": 1,
     "metadata": {},
     "output_type": "execute_result"
    }
   ],
   "source": [
    "array = [ 4, 1, 2, 9, 3]\n",
    "# recursive \n",
    "def rec_opt(arr, i):\n",
    "    if i==0:\n",
    "        return arr[0]\n",
    "    elif i==1:\n",
    "        return max(arr[0], arr[1])\n",
    "    else:\n",
    "        A = arr[i] + rec_opt(arr, i-2)\n",
    "        B = rec_opt(arr, i -1)\n",
    "        return max(A, B)\n",
    "rec_opt(array,4)"
   ]
  },
  {
   "cell_type": "code",
   "execution_count": 2,
   "metadata": {},
   "outputs": [
    {
     "data": {
      "text/plain": [
       "13.0"
      ]
     },
     "execution_count": 2,
     "metadata": {},
     "output_type": "execute_result"
    }
   ],
   "source": [
    "import numpy as np\n",
    "\n",
    "array = [ 4, 1, 2, 9, 3]\n",
    "\n",
    "def dp_opt(arr):\n",
    "    # numpy 创建一个长度为len(arr)的，初始值为0的数组\n",
    "    dp = np.zeros(len(arr))\n",
    "    # 忽略细节 array 数组长度假定大于等于2\n",
    "    dp[0] = arr[0]\n",
    "    dp[1] = max(arr[0], arr[1])\n",
    "    for i in range(2, len(arr)):\n",
    "        A = arr[i] + dp[i - 2]\n",
    "        B = dp[i-1]\n",
    "        dp[i] = max(A, B)\n",
    "    return dp[len(arr) - 1]\n",
    "dp_opt(array)"
   ]
  }
 ],
 "metadata": {
  "kernelspec": {
   "display_name": "Python 3",
   "language": "python",
   "name": "python3"
  },
  "language_info": {
   "codemirror_mode": {
    "name": "ipython",
    "version": 3
   },
   "file_extension": ".py",
   "mimetype": "text/x-python",
   "name": "python",
   "nbconvert_exporter": "python",
   "pygments_lexer": "ipython3",
   "version": "3.6.0"
  }
 },
 "nbformat": 4,
 "nbformat_minor": 2
}
