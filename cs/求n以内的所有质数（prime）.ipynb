{
 "cells": [
  {
   "cell_type": "markdown",
   "metadata": {},
   "source": [
    "1. 算法1\n",
    "判断每一个数是否为质数"
   ]
  },
  {
   "cell_type": "code",
   "execution_count": 1,
   "metadata": {},
   "outputs": [],
   "source": [
    "import math\n",
    "def isPrime(n):\n",
    "    if(n < 2):\n",
    "        return False\n",
    "    elif(n==2):\n",
    "        return True\n",
    "    else:\n",
    "        # Wrong n/2 is float ,n //2 is int \n",
    "        # for i in range (2,n/2 + 1):\n",
    "        # Right One\n",
    "        #for i in range (2,n//2 + 1):\n",
    "        for i in range (2, int(math.sqrt(n)) + 1):\n",
    "            if(n%i==0):\n",
    "                return False\n",
    "        return True\n",
    "\n",
    "def getPrimes(n):\n",
    "    primes = []\n",
    "    if(n<2):\n",
    "        return primes\n",
    "    for i in range(2,n+1):\n",
    "        if isPrime(i):\n",
    "            primes.append(i)\n",
    "    return primes\n",
    "        "
   ]
  },
  {
   "cell_type": "markdown",
   "metadata": {},
   "source": [
    "2. 算法2\n",
    "从小到大，以此去除已知质数的倍数，比如[2,3,4,5,6,7,8,9,10]\n",
    "已知质数2，去除2(不包括2)的倍数为[2,3,5,7,9]\n",
    "则下一个最小值也为质数3\n",
    "去除3的倍数为[2,3,5,7]\n",
    "以此类推\n",
    "\n",
    "另外还有一个优化点，没有必要从2已知计算到n，只要从2计算到 sqrt（n）+1即可"
   ]
  },
  {
   "cell_type": "code",
   "execution_count": 2,
   "metadata": {},
   "outputs": [],
   "source": [
    "def getPrimes1(n):\n",
    "    primes = [1 for i in range(0,n+1)]\n",
    "    primes[0] = 0\n",
    "    primes[1] = 0\n",
    "    for i in range(2,int(math.sqrt(n))+1):\n",
    "        for j in range(i+1,n+1):\n",
    "            # CE\n",
    "            # if(primes[j]==1 && j%i==0):\n",
    "            if(primes[j]==1 and j%i==0):\n",
    "                primes[j]=0\n",
    "    result = []\n",
    "    for i in range(2,n+1):\n",
    "        if(primes[i]==1):\n",
    "            result.append(i)\n",
    "            \n",
    "    return result\n",
    "    "
   ]
  },
  {
   "cell_type": "code",
   "execution_count": 3,
   "metadata": {},
   "outputs": [
    {
     "name": "stdout",
     "output_type": "stream",
     "text": [
      "10 has such primes:[2, 3, 5, 7, 11, 13, 17, 19]\n",
      "19 has such primes:[2, 3, 5, 7, 11, 13, 17, 19]\n"
     ]
    }
   ],
   "source": [
    "print(f\"10 has such primes:{getPrimes(19)}\")\n",
    "\n",
    "print(f\"19 has such primes:{getPrimes1(19)}\")"
   ]
  },
  {
   "cell_type": "code",
   "execution_count": 4,
   "metadata": {},
   "outputs": [
    {
     "name": "stdout",
     "output_type": "stream",
     "text": [
      "2:True\n",
      "5:True\n"
     ]
    }
   ],
   "source": [
    "print(f'2:{isPrime(2)}')\n",
    "print('5:' + str(isPrime(5)))"
   ]
  },
  {
   "cell_type": "code",
   "execution_count": 5,
   "metadata": {},
   "outputs": [
    {
     "name": "stdout",
     "output_type": "stream",
     "text": [
      "2.5\n",
      "2\n"
     ]
    }
   ],
   "source": [
    "print(5/2)\n",
    "print(5//2)"
   ]
  },
  {
   "cell_type": "code",
   "execution_count": null,
   "metadata": {},
   "outputs": [],
   "source": []
  }
 ],
 "metadata": {
  "kernelspec": {
   "display_name": "Python 3",
   "language": "python",
   "name": "python3"
  },
  "language_info": {
   "codemirror_mode": {
    "name": "ipython",
    "version": 3
   },
   "file_extension": ".py",
   "mimetype": "text/x-python",
   "name": "python",
   "nbconvert_exporter": "python",
   "pygments_lexer": "ipython3",
   "version": "3.6.0"
  }
 },
 "nbformat": 4,
 "nbformat_minor": 2
}
