{
 "cells": [
  {
   "cell_type": "code",
   "execution_count": null,
   "metadata": {},
   "outputs": [],
   "source": [
    "'''\n",
    "a->1\n",
    "b->2\n",
    "c->3\n",
    "...\n",
    "z->26 \n",
    "\n",
    "data = \"12\"求data对应的组合个数 =》 ab  ,l (l->12)\n",
    "data = \"012\" 则组合数为0\n",
    "给定一个data由数字组成，求对应组合个数共多少\n",
    "'''"
   ]
  },
  {
   "cell_type": "code",
   "execution_count": 12,
   "metadata": {},
   "outputs": [
    {
     "name": "stdout",
     "output_type": "stream",
     "text": [
      "2\n",
      "1\n",
      "0\n",
      "13\n"
     ]
    }
   ],
   "source": [
    "def num_ways(data):\n",
    "    dp = [-1] * (len(data) + 1) #  dp size is data.length +1\n",
    "    return helper(data,len(data),dp)\n",
    "def helper(data,k,dp):\n",
    "    if dp[k] != -1:\n",
    "        return dp[k]\n",
    "    if k == 0:\n",
    "        return 1\n",
    "    index = len(data) - k\n",
    "    \n",
    "    if data[index]=='0':\n",
    "        return 0\n",
    "    result = helper(data,k-1,dp)\n",
    "    if k>=2 and int(data[index:index+2]) <= 26:\n",
    "        result += helper(data,k-2,dp)\n",
    "    dp[k] = result\n",
    "    return result\n",
    "\n",
    "\n",
    "print(num_ways(\"12\"))  \n",
    "print(num_ways(\"27\")) \n",
    "print(num_ways(\"01\"))  \n",
    "print(num_ways(\"111111\"))  "
   ]
  }
 ],
 "metadata": {
  "kernelspec": {
   "display_name": "Python 3",
   "language": "python",
   "name": "python3"
  },
  "language_info": {
   "codemirror_mode": {
    "name": "ipython",
    "version": 3
   },
   "file_extension": ".py",
   "mimetype": "text/x-python",
   "name": "python",
   "nbconvert_exporter": "python",
   "pygments_lexer": "ipython3",
   "version": "3.6.0"
  }
 },
 "nbformat": 4,
 "nbformat_minor": 2
}
