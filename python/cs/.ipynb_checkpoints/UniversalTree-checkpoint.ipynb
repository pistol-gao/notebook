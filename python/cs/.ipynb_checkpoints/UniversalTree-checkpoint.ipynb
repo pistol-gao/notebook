{
 "cells": [
  {
   "cell_type": "code",
   "execution_count": null,
   "metadata": {},
   "outputs": [],
   "source": [
    "'''\n",
    "Universal Value Tree Problem\n",
    "树的各节点value相同，则称为Universal Tree\n",
    "    3\n",
    "  3    3 是Universal Tree\n",
    "  \n",
    "  2  单个节点也是Universal Tree\n",
    "  \n",
    "  给定一个二叉树，求二叉树中Universal tree的个数\n",
    "         1\n",
    "     2      3\n",
    "         4     5\n",
    "       4   4\n",
    "  Universal Tree 个数为 （2） + （4） +  （4） + （5） + （444） = 5\n",
    "'''"
   ]
  },
  {
   "cell_type": "code",
   "execution_count": 2,
   "metadata": {},
   "outputs": [],
   "source": [
    "\n",
    "class Node:\n",
    "    def __ini__(self, value, left=None, right=None):\n",
    "        self.value = value\n",
    "        self.left = left\n",
    "        self.right = right\n",
    "\n",
    "\n"
   ]
  },
  {
   "cell_type": "code",
   "execution_count": null,
   "metadata": {},
   "outputs": [],
   "source": []
  }
 ],
 "metadata": {
  "kernelspec": {
   "display_name": "Python 3",
   "language": "python",
   "name": "python3"
  },
  "language_info": {
   "codemirror_mode": {
    "name": "ipython",
    "version": 3
   },
   "file_extension": ".py",
   "mimetype": "text/x-python",
   "name": "python",
   "nbconvert_exporter": "python",
   "pygments_lexer": "ipython3",
   "version": "3.6.0"
  }
 },
 "nbformat": 4,
 "nbformat_minor": 2
}
