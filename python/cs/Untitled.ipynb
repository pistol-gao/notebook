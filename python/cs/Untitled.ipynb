{
 "cells": [
  {
   "cell_type": "markdown",
   "metadata": {},
   "source": [
    "1. 问题描述：\n",
    "有n个台阶，一次可以走的台阶数为{a,b,..}X数组，求登上台阶共有多少种方法。\n",
    "例如：台阶共有4阶，可以选择数据为{1,2}，共有5种方法登上[{1,2,3,4},{1,2,4},{1,3,4},{2,3,4},{2,4}]"
   ]
  },
  {
   "cell_type": "markdown",
   "metadata": {},
   "source": [
    "首先简化一下这道题，假设X为数组{1,3,5}"
   ]
  },
  {
   "cell_type": "code",
   "execution_count": 1,
   "metadata": {},
   "outputs": [],
   "source": [
    "def num_ways_X_bottom_up(n):\n",
    "    if n==0: return 1\n",
    "    #nums = new int[n + 1] #invalid syntax\n",
    "    nums = [0 for i in range(0,n+1)]\n",
    "    nums[0] = 1\n",
    "    for i in range(1,n+1):\n",
    "        total = 0\n",
    "        for j in {1,3,5}:\n",
    "            if i - j>=0:\n",
    "                total += nums[i - j]\n",
    "        nums[i] = total\n",
    "        print(i,\":\",nums[i])\n",
    "    return nums[n]"
   ]
  },
  {
   "cell_type": "code",
   "execution_count": 2,
   "metadata": {},
   "outputs": [
    {
     "name": "stdout",
     "output_type": "stream",
     "text": [
      "1 : 1\n",
      "2 : 1\n",
      "3 : 2\n",
      "4 : 3\n",
      "5 : 5\n",
      "6 : 8\n",
      "8\n"
     ]
    }
   ],
   "source": [
    "print(num_ways_X_bottom_up(6))"
   ]
  },
  {
   "cell_type": "code",
   "execution_count": null,
   "metadata": {},
   "outputs": [],
   "source": []
  }
 ],
 "metadata": {
  "kernelspec": {
   "display_name": "Python 3",
   "language": "python",
   "name": "python3"
  },
  "language_info": {
   "codemirror_mode": {
    "name": "ipython",
    "version": 3
   },
   "file_extension": ".py",
   "mimetype": "text/x-python",
   "name": "python",
   "nbconvert_exporter": "python",
   "pygments_lexer": "ipython3",
   "version": "3.6.0"
  }
 },
 "nbformat": 4,
 "nbformat_minor": 2
}
