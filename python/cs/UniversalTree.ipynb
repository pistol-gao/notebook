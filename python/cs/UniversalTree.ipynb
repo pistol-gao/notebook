{
 "cells": [
  {
   "cell_type": "code",
   "execution_count": 1,
   "metadata": {},
   "outputs": [
    {
     "data": {
      "text/plain": [
       "'\\nUniversal Value Tree Problem\\n树的各节点value相同，则称为Universal Tree\\n    3\\n  3    3 是Universal Tree\\n  \\n  2  单个节点也是Universal Tree\\n  \\n  给定一个二叉树，求二叉树中Universal tree的个数\\n         1\\n     2      3\\n         4     5\\n       4   4\\n  Universal Tree 个数为 （2） + （4） +  （4） + （5） + （444） = 5\\n'"
      ]
     },
     "execution_count": 1,
     "metadata": {},
     "output_type": "execute_result"
    }
   ],
   "source": [
    "'''\n",
    "Universal Value Tree Problem\n",
    "树的各节点value相同，则称为Universal Tree\n",
    "    3\n",
    "  3    3 是Universal Tree\n",
    "  \n",
    "  2  单个节点也是Universal Tree\n",
    "  \n",
    "  给定一个二叉树，求二叉树中Universal tree的个数\n",
    "         1\n",
    "     2      3\n",
    "         4     5\n",
    "       4   4\n",
    "  Universal Tree 个数为 （2） + （4） +  （4） + （5） + （444） = 5\n",
    "'''"
   ]
  },
  {
   "cell_type": "code",
   "execution_count": 2,
   "metadata": {},
   "outputs": [],
   "source": [
    "\n",
    "class Node(object):\n",
    "    def __init__(self, value, left=None, right=None):\n",
    "        self.value = value\n",
    "        self.left = left\n",
    "        self.right = right\n",
    "\n",
    "\n",
    "node2 = Node(2)\n",
    "node41 = Node(4)\n",
    "node42 = Node(4)\n",
    "node43 = Node(4,node41,node42)\n",
    "node5 = Node(5)\n",
    "node3 = Node(3,node43,node5)\n",
    "root = Node(1,node2,node3)\n"
   ]
  },
  {
   "cell_type": "code",
   "execution_count": 3,
   "metadata": {},
   "outputs": [
    {
     "data": {
      "text/plain": [
       "5"
      ]
     },
     "execution_count": 3,
     "metadata": {},
     "output_type": "execute_result"
    }
   ],
   "source": [
    "'''\n",
    "解法1\n",
    "    不好，递归调用isUT，有大量子节点重复计算，时间复杂度为O(n²)\n",
    "'''\n",
    "def isUT(node):\n",
    "    if node is None:\n",
    "        return True\n",
    "    if node.left is not None and node.left.value != node.value:\n",
    "        return False\n",
    "    if node.right is not None and node.right.value != node.value:\n",
    "        return False\n",
    "    if not isUT(node.left) or not isUT(node.right):\n",
    "        return False\n",
    "    return True\n",
    "\n",
    "\n",
    "def getUTCount(root):\n",
    "    if root is None :\n",
    "        return 0\n",
    "    total_count = getUTCount(root.left) + getUTCount(root.right)\n",
    "    if isUT(root):\n",
    "        return 1 + total_count\n",
    "    return total_count\n",
    "\n",
    "getUTCount(root)"
   ]
  },
  {
   "cell_type": "code",
   "execution_count": 4,
   "metadata": {},
   "outputs": [
    {
     "data": {
      "text/plain": [
       "5"
      ]
     },
     "execution_count": 4,
     "metadata": {},
     "output_type": "execute_result"
    }
   ],
   "source": [
    "'''\n",
    "解法2\n",
    "利用函数多个返回值，增加子节点unival tree 个数，从而减少递归调用\n",
    "时间复杂度O(n)\n",
    "'''\n",
    "def getUTCount2(root):\n",
    "    total_count,is_unival = helper(root)\n",
    "    return total_count\n",
    "\n",
    "def helper(root):\n",
    "    if root is None:\n",
    "        return 0,True\n",
    "    left_count, is_left_unival = helper(root.left)\n",
    "    right_count, is_right_unival = helper(root.right)\n",
    "    count = left_count + right_count\n",
    "    unival = True\n",
    "    if not is_left_unival or not is_right_unival:\n",
    "        unival = False\n",
    "    if root.left is not None and root.left.value != root.value:\n",
    "        unival = False\n",
    "    if root.right is not None and root.right.value != root.value:\n",
    "        unival = False\n",
    "    if unival:\n",
    "        count += 1\n",
    "    return count,unival\n",
    "        \n",
    "getUTCount2(root)  \n",
    "    "
   ]
  },
  {
   "cell_type": "code",
   "execution_count": 5,
   "metadata": {},
   "outputs": [
    {
     "name": "stdout",
     "output_type": "stream",
     "text": [
      "6\n",
      "1\n"
     ]
    }
   ],
   "source": [
    "'''\n",
    "python 没有++操作\n",
    "++ 操作等价于  +=1\n",
    "而不是 =+1\n",
    "'''\n",
    "a = 5\n",
    "a += 1\n",
    "print(a)\n",
    "b = 5\n",
    "b =+ 1\n",
    "print(b)"
   ]
  },
  {
   "cell_type": "code",
   "execution_count": null,
   "metadata": {},
   "outputs": [],
   "source": []
  }
 ],
 "metadata": {
  "kernelspec": {
   "display_name": "Python 3",
   "language": "python",
   "name": "python3"
  },
  "language_info": {
   "codemirror_mode": {
    "name": "ipython",
    "version": 3
   },
   "file_extension": ".py",
   "mimetype": "text/x-python",
   "name": "python",
   "nbconvert_exporter": "python",
   "pygments_lexer": "ipython3",
   "version": "3.6.0"
  }
 },
 "nbformat": 4,
 "nbformat_minor": 2
}
