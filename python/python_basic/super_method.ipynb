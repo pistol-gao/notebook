{
 "cells": [
  {
   "cell_type": "code",
   "execution_count": 1,
   "metadata": {},
   "outputs": [],
   "source": [
    "class Parent(object):\n",
    "    def altered(self):\n",
    "        print(\"Parent altered()\")\n",
    "class Child(Parent):\n",
    "    def altered(self):\n",
    "        print(\"Child before Parent altered()\")\n",
    "        # 指定Child而非Parent \n",
    "        super(Child,self).altered()\n",
    "        print(\"Child after Parent altered()\")        "
   ]
  },
  {
   "cell_type": "code",
   "execution_count": 3,
   "metadata": {},
   "outputs": [
    {
     "name": "stdout",
     "output_type": "stream",
     "text": [
      "Child before Parent altered()\n",
      "Parent altered()\n",
      "Child after Parent altered()\n"
     ]
    }
   ],
   "source": [
    "child= Child()\n",
    "child.altered()"
   ]
  }
 ],
 "metadata": {
  "kernelspec": {
   "display_name": "Python 3",
   "language": "python",
   "name": "python3"
  },
  "language_info": {
   "codemirror_mode": {
    "name": "ipython",
    "version": 3
   },
   "file_extension": ".py",
   "mimetype": "text/x-python",
   "name": "python",
   "nbconvert_exporter": "python",
   "pygments_lexer": "ipython3",
   "version": "3.6.0"
  }
 },
 "nbformat": 4,
 "nbformat_minor": 2
}
