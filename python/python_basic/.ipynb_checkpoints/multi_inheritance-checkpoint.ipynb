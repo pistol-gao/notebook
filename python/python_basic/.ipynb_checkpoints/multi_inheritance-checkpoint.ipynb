{
 "cells": [
  {
   "cell_type": "code",
   "execution_count": 0,
   "metadata": {},
   "outputs": [],
   "source": [
    "class A(object):\n",
    "    def __init__(self):\n",
    "        print(\"A inited\")\n",
    "    def A(self):\n",
    "        print(\"A function()\")\n",
    "class B(object):\n",
    "    def __init__(self):\n",
    "        print(\"B inited\")\n",
    "    def B(self):\n",
    "        print(\"B function()\")\n",
    "class AB(A,B):\n",
    "    def __init__(self):\n",
    "        print(\"AB inited\")\n",
    "    def A(self):\n",
    "        super(AB,self).A()\n",
    "    def B(self):\n",
    "        print(AB,self).B()"
   ]
  },
  {
   "cell_type": "code",
   "execution_count": 0,
   "metadata": {},
   "outputs": [],
   "source": [
    "ab = AB()\n",
    "ab.A()\n",
    "ab.B()"
   ]
  },
  {
   "cell_type": "code",
   "execution_count": 0,
   "metadata": {},
   "outputs": [],
   "source": []
  }
 ],
 "metadata": {
  "kernelspec": {
   "display_name": "Python 3",
   "language": "python",
   "name": "python3"
  },
  "language_info": {
   "codemirror_mode": {
    "name": "ipython",
    "version": 3
   },
   "file_extension": ".py",
   "mimetype": "text/x-python",
   "name": "python",
   "nbconvert_exporter": "python",
   "pygments_lexer": "ipython3",
   "version": "3.6.0"
  }
 },
 "nbformat": 4,
 "nbformat_minor": 2
}