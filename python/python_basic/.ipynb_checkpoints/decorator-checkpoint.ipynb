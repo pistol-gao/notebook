{
 "cells": [
  {
   "cell_type": "code",
   "execution_count": 1,
   "metadata": {},
   "outputs": [],
   "source": [
    "'''\n",
    "1.装饰器返回一个增强了的函数。\n",
    "2.装饰器函数接受参数为一个函数。\n",
    "3.返回函数的参数为增强函数的参数。\n",
    "'''\n",
    "def print_debug(func):\n",
    "    def __decorator(user):\n",
    "        print('enter the login')\n",
    "        func(user)  #pass user to login\n",
    "        print('exit the login')\n",
    "    return __decorator\n",
    "@print_debug\n",
    "def login(user):\n",
    "    print(\"in login:\",user)"
   ]
  },
  {
   "cell_type": "code",
   "execution_count": 2,
   "metadata": {},
   "outputs": [
    {
     "name": "stdout",
     "output_type": "stream",
     "text": [
      "enter the login\n",
      "in login: gao\n",
      "exit the login\n"
     ]
    }
   ],
   "source": [
    "login(\"gao\")"
   ]
  },
  {
   "cell_type": "code",
   "execution_count": 3,
   "metadata": {},
   "outputs": [],
   "source": [
    "'''\n",
    "4.装饰器接受参数，参数名要一致，接受参数的函数返回新的装饰器函数。\n",
    "5.多个装饰器顺序\n",
    "@a\n",
    "@b\n",
    "@c\n",
    "def fun():\n",
    "    pass\n",
    "相当于a(b(c(fun())))\n",
    "'''\n",
    "def print_debug_level(level):\n",
    "    def printdebug(func):\n",
    "        def __decorator(user):\n",
    "            print(f'enter the login,and debug level is {str(level)}')\n",
    "            func(user)  #pass user to login\n",
    "            print('exit the login')\n",
    "        return __decorator\n",
    "    return printdebug\n",
    "\n",
    "def others(func):    #define a other decorator\n",
    "    def __decorator(user):\n",
    "        print('***other decorator***')\n",
    "        func(user)\n",
    "    return __decorator\n",
    "\n",
    "\n",
    "@print_debug_level(level = 5)# param name must be level\n",
    "@others # 不要错带括号 @others()\n",
    "def login1(user):\n",
    "    print(\"in login:\",user)"
   ]
  },
  {
   "cell_type": "code",
   "execution_count": 4,
   "metadata": {},
   "outputs": [
    {
     "name": "stdout",
     "output_type": "stream",
     "text": [
      "enter the login,and debug level is 5\n",
      "***other decorator***\n",
      "in login: gaoqingrui\n",
      "exit the login\n"
     ]
    }
   ],
   "source": [
    "login1(\"gaoqingrui\")"
   ]
  },
  {
   "cell_type": "code",
   "execution_count": 5,
   "metadata": {},
   "outputs": [
    {
     "name": "stdout",
     "output_type": "stream",
     "text": [
      "class decorator runing\n",
      "bar\n",
      "class decorator ending\n"
     ]
    }
   ],
   "source": [
    "'''\n",
    "6.类装饰器\n",
    "装饰器不仅可以是函数，还可以是类，相比函数装饰器，类装饰器具有灵活度大、高内聚、封装性等优点。使用类装饰器主要依靠类的__call__方法\n",
    "'''\n",
    "class Foo(object):\n",
    "    def __init__(self, func):\n",
    "        self._func = func\n",
    "    # 固定方法\n",
    "    def __call__(self):\n",
    "        print ('class decorator runing')\n",
    "        self._func()\n",
    "        print ('class decorator ending')\n",
    "\n",
    "@Foo\n",
    "def bar():\n",
    "    print ('bar')\n",
    "\n",
    "bar()"
   ]
  }
 ],
 "metadata": {
  "kernelspec": {
   "display_name": "Python 3",
   "language": "python",
   "name": "python3"
  },
  "language_info": {
   "codemirror_mode": {
    "name": "ipython",
    "version": 3
   },
   "file_extension": ".py",
   "mimetype": "text/x-python",
   "name": "python",
   "nbconvert_exporter": "python",
   "pygments_lexer": "ipython3",
   "version": "3.6.0"
  }
 },
 "nbformat": 4,
 "nbformat_minor": 2
}
