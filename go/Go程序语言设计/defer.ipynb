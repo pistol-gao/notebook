{
 "cells": [
  {
   "cell_type": "markdown",
   "metadata": {},
   "source": [
    "多个defer语句执行顺序，倒序执行"
   ]
  },
  {
   "cell_type": "code",
   "execution_count": 1,
   "metadata": {},
   "outputs": [
    {
     "name": "stdout",
     "output_type": "stream",
     "text": [
      "2\n",
      "1\n"
     ]
    }
   ],
   "source": [
    "import \"fmt\"\n",
    "func deferTest(){\n",
    "    defer fmt.Println(\"1\") // 后执行\n",
    "    defer fmt.Println(\"2\") // 先执行\n",
    "}\n",
    "deferTest()"
   ]
  }
 ],
 "metadata": {
  "kernelspec": {
   "display_name": "Go",
   "language": "go",
   "name": "gophernotes"
  },
  "language_info": {
   "codemirror_mode": "",
   "file_extension": ".go",
   "mimetype": "",
   "name": "go",
   "nbconvert_exporter": "",
   "pygments_lexer": "",
   "version": "go1.13.8"
  }
 },
 "nbformat": 4,
 "nbformat_minor": 4
}
