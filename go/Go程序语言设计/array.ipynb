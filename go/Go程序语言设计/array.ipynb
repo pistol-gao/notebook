{
 "cells": [
  {
   "cell_type": "markdown",
   "metadata": {},
   "source": [
    "1. array固定长度\n",
    "2. slice变长\n",
    "\n",
    "An array has a fixed size. A slice, on the other hand, is a dynamically-sized, flexible view into the elements of an array. In practice, slices are much more common than arrays.\n",
    "\n",
    "The type []T is a slice with elements of type T.\n",
    "\n",
    "A slice is formed by specifying two indices, a low and high bound, separated by a colon:\n",
    "\n",
    "a[low : high]\n",
    "This selects a half-open range which includes the first element, but excludes the last one.\n",
    "\n",
    "The following expression creates a slice which includes elements 1 through 3 of a:\n",
    "\n",
    "a[1:4]"
   ]
  },
  {
   "cell_type": "markdown",
   "metadata": {},
   "source": [
    "# array\n",
    "## 声明数组\n",
    "var variable_name [SIZE] variable_type\n",
    "\n",
    "## 初始化数组\n",
    "var balance = [5]float32{1000.0, 2.0, 3.4, 7.0, 50.0}\n",
    "\n",
    "# Slice\n",
    "\n",
    "## 声明slice（切片）\n",
    "var identifier []type\n",
    "\n",
    "## 初始化slice\n",
    "1. s :=[] int {1,2,3 } \n",
    "2. s := arr[:] \n",
    "3. s := arr[startIndex:endIndex] \n",
    "4. s :=make([]int,len,cap) \n",
    "\n",
    "\n",
    "## 特殊操作\n",
    "“…” is syntax for variadic arguments in Go, aka it changes **an slice** into a multiple arguments in the function call\n",
    "仅能对slice操作"
   ]
  },
  {
   "cell_type": "code",
   "execution_count": 2,
   "metadata": {},
   "outputs": [
    {
     "name": "stdout",
     "output_type": "stream",
     "text": [
      "[3 5 7]\n"
     ]
    },
    {
     "data": {
      "text/plain": [
       "8 <nil>"
      ]
     },
     "execution_count": 2,
     "metadata": {},
     "output_type": "execute_result"
    }
   ],
   "source": [
    "import \"fmt\"\n",
    "primes := [6]int{2, 3, 5, 7, 11, 13}\n",
    "\n",
    "var s []int = primes[1:4]\n",
    "fmt.Println(s)"
   ]
  },
  {
   "cell_type": "code",
   "execution_count": 12,
   "metadata": {},
   "outputs": [
    {
     "name": "stdout",
     "output_type": "stream",
     "text": [
      "[1 2 3 6 7 8 9 10]\n"
     ]
    },
    {
     "data": {
      "text/plain": [
       "19 <nil>"
      ]
     },
     "execution_count": 12,
     "metadata": {},
     "output_type": "execute_result"
    }
   ],
   "source": [
    "import \"fmt\"\n",
    "// var intArr = [3]int{1,2,3} // ERROR， appen第一个参数必须是slice\n",
    "var intArr = []int{1,2,3}\n",
    "// var intArr1 = [5]int{6,7,8,9,10} //ERROR ,...仅能操作slice\n",
    "var intArr1 = []int{6,7,8,9,10}\n",
    "mergeSlice := append(intArr,intArr1...)\n",
    "fmt.Println(mergeSlice)"
   ]
  }
 ],
 "metadata": {
  "kernelspec": {
   "display_name": "Go",
   "language": "go",
   "name": "gophernotes"
  },
  "language_info": {
   "codemirror_mode": "",
   "file_extension": ".go",
   "mimetype": "",
   "name": "go",
   "nbconvert_exporter": "",
   "pygments_lexer": "",
   "version": "go1.13.8"
  }
 },
 "nbformat": 4,
 "nbformat_minor": 4
}
