{
 "cells": [
  {
   "cell_type": "markdown",
   "metadata": {},
   "source": [
    "使用make来创建切片、哈希表和通道。\n",
    "注意make()与new()的区别：\n",
    "* make 的作用是初始化内置的数据结构，也就是我们在前面提到的切片、哈希表和 Channel2；\n",
    "* new 的作用是根据传入的类型分配一片内存空间并返回指向这片内存空间的指针3；"
   ]
  },
  {
   "cell_type": "code",
   "execution_count": 3,
   "metadata": {},
   "outputs": [
    {
     "name": "stdout",
     "output_type": "stream",
     "text": [
      "A true\n"
     ]
    },
    {
     "data": {
      "text/plain": [
       "7 <nil>"
      ]
     },
     "execution_count": 3,
     "metadata": {},
     "output_type": "execute_result"
    }
   ],
   "source": [
    "import \"fmt\"\n",
    "\n",
    "m := make(map[string]string)\n",
    "// m := map[string]string 错误，要使用make\n",
    "m[\"a\"] = \"A\"\n",
    "\n",
    "\n",
    "fmt.Println(m[\"a\"]) // output \"A true\"\n"
   ]
  }
 ],
 "metadata": {
  "kernelspec": {
   "display_name": "Go",
   "language": "go",
   "name": "gophernotes"
  },
  "language_info": {
   "codemirror_mode": "",
   "file_extension": ".go",
   "mimetype": "",
   "name": "go",
   "nbconvert_exporter": "",
   "pygments_lexer": "",
   "version": "go1.13.8"
  }
 },
 "nbformat": 4,
 "nbformat_minor": 4
}
