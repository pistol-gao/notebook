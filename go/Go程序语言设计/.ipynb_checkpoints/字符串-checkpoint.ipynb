{
 "cells": [
  {
   "cell_type": "code",
   "execution_count": 1,
   "metadata": {},
   "outputs": [],
   "source": [
    "import \"fmt\""
   ]
  },
  {
   "cell_type": "code",
   "execution_count": 3,
   "metadata": {},
   "outputs": [
    {
     "name": "stdout",
     "output_type": "stream",
     "text": [
      "11\n",
      "6\n",
      "104 111\n"
     ]
    },
    {
     "ename": "ERROR",
     "evalue": "runtime error: index out of range [12] with length 11",
     "output_type": "error",
     "traceback": [
      "runtime error: index out of range [12] with length 11"
     ]
    }
   ],
   "source": [
    "s := \"hello,world\"\n",
    "// len函数返回字符串的字节数（并非文字符号的数目）\n",
    "fmt.Println(len(s)) // \"11\"\n",
    "fmt.Println(len(\"中国\")) // 6 \n",
    "fmt.Println(s[0],s[7])\n",
    "\n",
    "// 试图访问许可范围外的字节触发宕机异常\n",
    "c := s[12]\n"
   ]
  },
  {
   "cell_type": "markdown",
   "metadata": {},
   "source": [
    "## 生成子字符串s[i:j]，内容取自原字符串[i,j)"
   ]
  },
  {
   "cell_type": "code",
   "execution_count": 5,
   "metadata": {},
   "outputs": [
    {
     "name": "stdout",
     "output_type": "stream",
     "text": [
      "hello\n",
      ",world\n"
     ]
    },
    {
     "data": {
      "text/plain": [
       "7 <nil>"
      ]
     },
     "execution_count": 5,
     "metadata": {},
     "output_type": "execute_result"
    }
   ],
   "source": [
    "fmt.Println(s[0:5])\n",
    "fmt.Println(s[5:])"
   ]
  },
  {
   "cell_type": "markdown",
   "metadata": {},
   "source": [
    "## 字符串不可改变，字符串内部数据不可修改"
   ]
  },
  {
   "cell_type": "markdown",
   "metadata": {},
   "source": [
    "## 字符串字面量\n",
    "### 可转义的双引号字面量（支持\\转义）\n",
    "### 不可转义的原生字符串字面量(使用反引号)"
   ]
  },
  {
   "cell_type": "code",
   "execution_count": 11,
   "metadata": {},
   "outputs": [
    {
     "name": "stdout",
     "output_type": "stream",
     "text": [
      "hello\tworld\n",
      "hello\\tworld\n",
      "hello\n",
      "\n",
      "world\\n\n",
      "!\n",
      "\n"
     ]
    },
    {
     "data": {
      "text/plain": [
       "18 <nil>"
      ]
     },
     "execution_count": 11,
     "metadata": {},
     "output_type": "execute_result"
    }
   ],
   "source": [
    "fmt.Println(\"hello\\tworld\")\n",
    "fmt.Println(`hello\\tworld`) // 不支持转义\n",
    "\n",
    "fmt.Println(`hello\n",
    "\n",
    "world\\n\n",
    "!\n",
    "`) \n"
   ]
  },
  {
   "cell_type": "markdown",
   "metadata": {},
   "source": [
    "#### range循环也适用于字符串，按UTF-8隐式解码"
   ]
  },
  {
   "cell_type": "code",
   "execution_count": 12,
   "metadata": {},
   "outputs": [
    {
     "name": "stdout",
     "output_type": "stream",
     "text": [
      "0\t'h'\t1041\t'e'\t1012\t'l'\t1083\t'l'\t1084\t'o'\t1115\t','\t446\t'世'\t199909\t'界'\t30028"
     ]
    }
   ],
   "source": [
    "for i, r := range \"hello,世界\"{\n",
    "    fmt.Printf(\"%d\\t%q\\t%d\",i,r,r)\n",
    "}"
   ]
  },
  {
   "cell_type": "markdown",
   "metadata": {},
   "source": [
    "##  常用字符串函数"
   ]
  },
  {
   "cell_type": "code",
   "execution_count": null,
   "metadata": {},
   "outputs": [],
   "source": []
  }
 ],
 "metadata": {
  "kernelspec": {
   "display_name": "Go",
   "language": "go",
   "name": "gophernotes"
  },
  "language_info": {
   "codemirror_mode": "",
   "file_extension": ".go",
   "mimetype": "",
   "name": "go",
   "nbconvert_exporter": "",
   "pygments_lexer": "",
   "version": "go1.13.8"
  }
 },
 "nbformat": 4,
 "nbformat_minor": 4
}
