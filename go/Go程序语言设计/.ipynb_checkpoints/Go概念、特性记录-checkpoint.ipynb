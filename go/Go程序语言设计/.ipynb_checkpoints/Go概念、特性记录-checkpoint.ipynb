{
 "cells": [
  {
   "cell_type": "markdown",
   "metadata": {},
   "source": [
    "### 语言特性（极端简单性的行文文化）\n",
    "Go语言特性不多，而且不会再增加新的特性了，它没有泛型，没有异常，没有宏，没有函数注解，没有运算符重载，没有形参默认值,没有线程局部存储等\n",
    "\n",
    "###  goroutine\n",
    "Go提供了边长栈来运行期轻量级线程（goroutine）。这个栈初始时非常小，所以创建一个goroutine的成本极低。\n",
    "\n",
    "### 格式\n",
    "- Go不需要在语句或声明后面使用分号结尾，除非多个语句或声明出现在同一行。跟在特定符号后面的换行符被转换为分号，在什么地方换行会影响对Go代码的解析。例如：“{”符号必须和关键字func再同一行，不能独自成行。\n",
    "Go对代码的格式要求非常严格,所以常用gofmt工具格式化。\n",
    "```\n",
    "gofmt {filename}\n",
    "```\n",
    "\n",
    "### 循环\n",
    "for是Go里面的唯一循环语句"
   ]
  },
  {
   "cell_type": "markdown",
   "metadata": {},
   "source": [
    "### 常见错误\n",
    "#### import的包中要使用双引号\n",
    "```\n",
    "import(\n",
    "    \"fmt\"\n",
    ")\n",
    "```\n",
    "#### ++,--为表达式不是运算符\n",
    "要注意，i++和i--在Go语言中是语句，不是表达式，因此不能赋值给另外的变量。此外没有++i和--i\n",
    "```\n",
    "The increment statement i++ adds 1 to i ; it’s equivalent to i += 1 which is in turn equivalent to i = i + 1 . There’s a corresponding decrement statement i– that subtracts 1. These are statements, not expressions as the y are in most languages in the C family, so j = i++ is illegal, and the y are postfix only, so –i is not legal either.\n",
    "```"
   ]
  },
  {
   "cell_type": "markdown",
   "metadata": {},
   "source": []
  }
 ],
 "metadata": {
  "kernelspec": {
   "display_name": "Go",
   "language": "go",
   "name": "gophernotes"
  },
  "language_info": {
   "codemirror_mode": "",
   "file_extension": ".go",
   "mimetype": "",
   "name": "go",
   "nbconvert_exporter": "",
   "pygments_lexer": "",
   "version": "go1.11.2"
  }
 },
 "nbformat": 4,
 "nbformat_minor": 2
}
