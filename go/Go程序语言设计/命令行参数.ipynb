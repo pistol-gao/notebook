{
 "cells": [
  {
   "cell_type": "code",
   "execution_count": 6,
   "metadata": {},
   "outputs": [
    {
     "ename": "ERROR",
     "evalue": "runtime error: index out of range",
     "output_type": "error",
     "traceback": [
      "runtime error: index out of range"
     ]
    }
   ],
   "source": [
    "package main\n",
    "import (\n",
    "    \"fmt\"\n",
    "    \"os\"\n",
    ")\n",
    "func main(){\n",
    "    var s, sep string\n",
    "    for i := 1; i < len(os.Args); i++ {\n",
    "        s += sep + os.Args[i]\n",
    "        sep =  \" \"\n",
    "    }\n",
    "    fmt.Println(s)\n",
    "}"
   ]
  }
 ],
 "metadata": {
  "kernelspec": {
   "display_name": "Go",
   "language": "go",
   "name": "gophernotes"
  },
  "language_info": {
   "codemirror_mode": "",
   "file_extension": ".go",
   "mimetype": "",
   "name": "go",
   "nbconvert_exporter": "",
   "pygments_lexer": "",
   "version": "go1.13.8"
  }
 },
 "nbformat": 4,
 "nbformat_minor": 2
}
