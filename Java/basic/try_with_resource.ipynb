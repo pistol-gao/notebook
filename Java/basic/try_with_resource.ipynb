{
 "cells": [
  {
   "cell_type": "code",
   "execution_count": 0,
   "metadata": {},
   "outputs": [],
   "source": [
    "public class ClosableResource implements AutoCloseable{\n",
    "    @Override\n",
    "    public void close() throws Exception{\n",
    "        System.out.println(\"close called!!\");\n",
    "    }\n",
    "    public void dosomething(){\n",
    "        System.out.println(\"doing somethine\");\n",
    "    }\n",
    "}"
   ]
  },
  {
   "cell_type": "code",
   "execution_count": 0,
   "metadata": {},
   "outputs": [],
   "source": [
    "/**\n",
    "ERROR1:\n",
    "try(new ClosableResource()){\n",
    "the try-with-resources resource must either be a variable declaration or an expression denoting a reference to a final or effectively final variable\n",
    "*/\n",
    "try(ClosableResource cr = new ClosableResource()){\n",
    "    cr.dosomething();\n",
    "   System.out.println(\"run in try with resource\");\n",
    "}catch(Exception e){\n",
    "    e.printStackTrace();\n",
    "}\n",
    "System.out.println(\"=========\");\n",
    "\n",
    "try(ClosableResource cr1 = new ClosableResource()){\n",
    "    cr1.dosomething();\n",
    "    throw new Exception(\"an Exception occured in try-with-resources\");\n",
    "}catch(Exception e){\n",
    "    e.printStackTrace();\n",
    "}\n",
    "\n"
   ]
  },
  {
   "cell_type": "code",
   "execution_count": 0,
   "metadata": {},
   "outputs": [],
   "source": []
  }
 ],
 "metadata": {
  "kernelspec": {
   "display_name": "Java",
   "language": "java",
   "name": "java"
  },
  "language_info": {
   "codemirror_mode": "java",
   "file_extension": ".java",
   "mimetype": "text/x-java-source",
   "name": "Java",
   "pygments_lexer": "java",
   "version": "10.0.2+13-Ubuntu-1ubuntu0.18.04.1"
  }
 },
 "nbformat": 4,
 "nbformat_minor": 2
}