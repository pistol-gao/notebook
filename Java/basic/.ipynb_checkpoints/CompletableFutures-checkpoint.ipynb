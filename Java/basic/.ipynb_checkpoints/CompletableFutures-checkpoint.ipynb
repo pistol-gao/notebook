{
 "cells": [
  {
   "cell_type": "markdown",
   "metadata": {},
   "source": [
    "# CompletableFutures Usage\n",
    "refer to http://codingjunkie.net/completable-futures-part1/"
   ]
  },
  {
   "cell_type": "markdown",
   "metadata": {},
   "source": [
    "1. method completedFuture\n",
    "```\n",
    "/**\n",
    " * Returns a new CompletableFuture that is already completed with\n",
    " * the given value.\n",
    " *\n",
    " * @param value the value\n",
    " * @param <U> the type of the value\n",
    " * @return the completed CompletableFuture\n",
    " */\n",
    " ```"
   ]
  },
  {
   "cell_type": "code",
   "execution_count": 0,
   "metadata": {},
   "outputs": [],
   "source": [
    "String expectedValue = \"the expected value\";\n",
    "CompletableFuture<String> alreadyCompleted = CompletableFuture.completedFuture(expectedValue);\n",
    "System.out.println(alreadyCompleted.get());"
   ]
  },
  {
   "cell_type": "markdown",
   "metadata": {},
   "source": [
    "2. method runAsync\n",
    "```\n",
    "/**\n",
    " * Returns a new CompletableFuture that is asynchronously completed\n",
    " * by a task running in the {@link ForkJoinPool#commonPool()} after\n",
    " * it runs the given action.\n",
    " *\n",
    " * @param runnable the action to run before completing the\n",
    " * returned CompletableFuture\n",
    " * @return the new CompletableFuture\n",
    " */\n",
    "```"
   ]
  },
  {
   "cell_type": "code",
   "execution_count": 0,
   "metadata": {},
   "outputs": [],
   "source": [
    "ExecutorService service = Executors.newCachedThreadPool();\n",
    "CompletableFuture<Void>  runAsync = CompletableFuture.runAsync(() -> System.out.println(\"running async task,currentThread:\"+Thread.currentThread().getName()), service);\n",
    "System.out.println(\"after runAsync,currentThread:\"+Thread.currentThread().getName());"
   ]
  }
 ],
 "metadata": {
  "kernelspec": {
   "display_name": "Java",
   "language": "java",
   "name": "java"
  },
  "language_info": {
   "codemirror_mode": "java",
   "file_extension": ".java",
   "mimetype": "text/x-java-source",
   "name": "Java",
   "pygments_lexer": "java",
   "version": "10.0.2+13-Ubuntu-1ubuntu0.18.04.2"
  }
 },
 "nbformat": 4,
 "nbformat_minor": 2
}