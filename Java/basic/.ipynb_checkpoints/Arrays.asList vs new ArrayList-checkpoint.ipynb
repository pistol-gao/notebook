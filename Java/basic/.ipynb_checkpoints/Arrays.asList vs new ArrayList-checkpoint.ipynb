{
 "cells": [
  {
   "cell_type": "markdown",
   "metadata": {},
   "source": [
    "Arrays.asList(T...)方法构造的List对象，实现依赖\n",
    "\n",
    "\n",
    "```\n",
    "public static <T> List<T> asList(T... a) {\n",
    "    // 此处的ArrayList并非是java.lang.ArrayList,而是Arrays内部实现类\n",
    "    return new ArrayList<>(a);\n",
    "}\n",
    "```\n",
    "构造的List array属性为数组a的引用，如果a内元素变化，则List对象内属性也会发生变化。\n",
    "而ArrayList(Collection c)构造的List，会复制相应元素不会因构造集合的变化而变化"
   ]
  },
  {
   "cell_type": "code",
   "execution_count": 2,
   "metadata": {},
   "outputs": [
    {
     "name": "stdout",
     "output_type": "stream",
     "text": [
      "[1, 5, 3]\n",
      "[1, 2, 3]\n"
     ]
    }
   ],
   "source": [
    "Integer[] arr = {1,2,3};\n",
    "List<Integer> list = Arrays.asList(arr);\n",
    "// List<Integer> list2 = new ArrayList(arr); // ArrayList没有此构造函数\n",
    "List<Integer> list2 = new ArrayList(list);\n",
    "arr[1] = 5;\n",
    "System.out.println(list.toString());\n",
    "System.out.println(list2.toString())"
   ]
  }
 ],
 "metadata": {
  "kernelspec": {
   "display_name": "Java",
   "language": "java",
   "name": "java"
  },
  "language_info": {
   "codemirror_mode": "java",
   "file_extension": ".java",
   "mimetype": "text/x-java-source",
   "name": "Java",
   "pygments_lexer": "java",
   "version": "10.0.2+13"
  }
 },
 "nbformat": 4,
 "nbformat_minor": 2
}
